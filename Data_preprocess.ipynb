{
 "cells": [
  {
   "cell_type": "code",
   "execution_count": 1,
   "id": "e3861b01",
   "metadata": {},
   "outputs": [],
   "source": [
    "from src.config import SNIPS_1, SNIPS_2, SST2_1, SST2_2, YELP_1, YELP_2, YELP_test, SNIPS2_TRAIN, SNIPS2_TEST, SNIPS2_DEV\n",
    "from src.config import SST5_1, SST5_2, SST5_val_1, SST5_val_2, SST5_test, SNIPS2_1, SNIPS2_2, SNIPS2_val_1, SNIPS2_val_2, SNIPS2_test\n",
    "from src.config import IMDB_1, IMDB_2, IMDB_test\n",
    "from src.config import AGNEWS_1, AGNEWS_2, AGNEWS_test\n",
    "from src.config import NEWS20_1, NEWS20_2, NEWS20_test\n",
    "from src.config import SST2_val_1, SST2_val_2, SST2_test\n",
    "from src.config import create_tree"
   ]
  },
  {
   "cell_type": "code",
   "execution_count": 2,
   "id": "5836f1c2-c386-44f1-a098-090b6d732a85",
   "metadata": {},
   "outputs": [],
   "source": [
    "import torch\n",
    "from datasets import load_dataset\n",
    "from sklearn import preprocessing as prep\n",
    "import numpy as np\n",
    "import argparse\n",
    "import re\n",
    "import pandas as pd\n",
    "import requests\n",
    "from sklearn.utils import shuffle\n",
    "from functools import partial\n",
    "\n",
    "create_tree()\n",
    "torch.cuda.empty_cache()"
   ]
  },
  {
   "cell_type": "code",
   "execution_count": 3,
   "id": "ee421c42-1812-4f8c-afac-b768071625e5",
   "metadata": {},
   "outputs": [],
   "source": [
    "import requests\n",
    "# Monkey patch the requests functions\n",
    "from functools import partial\n",
    "\n",
    "# Monkey patch the requests functions\n",
    "requests.request = partial(requests.request, verify=False)\n",
    "requests.get = partial(requests.get, verify=False)\n",
    "requests.head = partial(requests.head, verify=False)\n",
    "requests.post = partial(requests.post, verify=False)\n",
    "requests.put = partial(requests.put, verify=False)\n",
    "requests.patch = partial(requests.patch, verify=False)\n",
    "requests.delete = partial(requests.delete, verify=False)\n",
    "# Remove warning\n",
    "requests.packages.urllib3.disable_warnings(requests.packages.urllib3.exceptions.InsecureRequestWarning)\n"
   ]
  },
  {
   "cell_type": "code",
   "execution_count": 12,
   "id": "25d0617f-3942-4e29-bb9b-b9cba8610b61",
   "metadata": {},
   "outputs": [],
   "source": [
    "test_mode=False\n",
    "\n",
    "\n",
    "def huggingface_to_ours(path=\"rungalileo/20_Newsgroups_Fixed\", test_mode=False, hierarchycal=1, join_train_val=False):\n",
    "    raw_datasets = load_dataset(path)\n",
    "\n",
    "    CLEANR = re.compile('<.{0,6}>')\n",
    "\n",
    "    def cleanhtml(raw_html):\n",
    "        return re.sub(CLEANR, '', raw_html)\n",
    "\n",
    "    def cleantext(raw_text):\n",
    "        return raw_text.replace(\"\\t\")\n",
    "\n",
    "    # Dataframe preparation\n",
    "    datasets = []\n",
    "    print(\"KEYS: \", list(raw_datasets.keys()))\n",
    "    for k in raw_datasets.keys():\n",
    "        ds = raw_datasets[k].to_pandas()\n",
    "        if join_train_val:\n",
    "            ds[\"split\"] = \"test\" if k == \"test\" else \"train\"\n",
    "        else:\n",
    "            ds[\"split\"] = k\n",
    "        datasets.append(ds)\n",
    "    df = pd.concat(datasets).reset_index(drop=True)\n",
    "    print(\"Label\", list(df['label'].unique()))\n",
    "    if hierarchycal > 1:\n",
    "        df[['cat1', 'cat2']] = df['label'].str.split('.', 1, expand=True)\n",
    "        del df['label']\n",
    "    df = df.rename(columns={\"label\": \"cat1\", \"text\": \"query\", \"sentence\": \"query\"})\n",
    "\n",
    "    # Encoding\n",
    "    categories = [x for x in df.columns if 'cat' in x]\n",
    "    for cat in categories:\n",
    "        tag_encoded = prep.LabelEncoder()\n",
    "        if not isinstance(df[cat][0], str):\n",
    "            df_sub = df[df[cat]!=-1]\n",
    "            df_sub[cat] = tag_encoded.fit_transform(df_sub[cat])\n",
    "            df[df[cat]!=-1][cat] = df_sub[cat]\n",
    "        else:\n",
    "            df[cat] = tag_encoded.fit_transform(df[cat])\n",
    "    df[\"query\"] = df[\"query\"].apply(lambda x: x.replace(\"\\n\", \"\") if isinstance(x, str) else np.nan)\n",
    "    df.dropna(inplace=True)\n",
    "    df['query'] = df['query'].map(cleanhtml)\n",
    "\n",
    "    # Recovering\n",
    "    outputs = dict()\n",
    "    for k in raw_datasets.keys():\n",
    "        df_sub = df[df[\"split\"] == k]\n",
    "        df_sub = shuffle(df_sub)\n",
    "        if test_mode:\n",
    "            df_sub = df_sub[:200]\n",
    "        df_sub2 = df_sub[[\"query\"] + categories]\n",
    "        df_sub1 = df_sub[\"query\"]\n",
    "        outputs[k + \"1\"] = df_sub1\n",
    "        outputs[k + \"2\"] = df_sub2\n",
    "    return outputs"
   ]
  },
  {
   "cell_type": "markdown",
   "id": "706e213d-bbe8-4266-b156-1e57fc9e6f53",
   "metadata": {
    "tags": []
   },
   "source": [
    "## DATA PREPROCESS"
   ]
  },
  {
   "cell_type": "markdown",
   "id": "dbefa798-1c64-491f-97b6-dfe6356be5ae",
   "metadata": {},
   "source": [
    "### SNIPS2"
   ]
  },
  {
   "cell_type": "code",
   "execution_count": 13,
   "id": "636bbbaf-e0ab-4550-b4e0-8a5ff1aaef61",
   "metadata": {},
   "outputs": [],
   "source": [
    "snips2 = dict()\n",
    "snips2['train'] = pd.read_csv(SNIPS2_TRAIN)\n",
    "snips2['dev'] = pd.read_csv(SNIPS2_DEV)\n",
    "snips2['test'] = pd.read_csv(SNIPS2_TEST)\n",
    "tag_encoded = prep.LabelEncoder()\n",
    "snips2['train']['cat1'] = tag_encoded.fit_transform(snips2['train']['intent'])\n",
    "snips2['dev']['cat1'] = tag_encoded.transform(snips2['dev']['intent'])\n",
    "snips2['test']['cat1'] = tag_encoded.transform(snips2['test']['intent'])\n",
    "for k in snips2.keys():\n",
    "    del snips2[k]['slot'], snips2[k]['intent']"
   ]
  },
  {
   "cell_type": "code",
   "execution_count": 14,
   "id": "4cc75897-7952-49bb-99c0-0315e540106b",
   "metadata": {},
   "outputs": [],
   "source": [
    "snips2[\"train\"][\"text\"].to_csv(SNIPS_1, index=False)\n",
    "snips2[\"train\"].rename(columns={'text':'query'}).to_csv(SNIPS_2, index=False)\n",
    "snips2[\"dev\"][\"text\"].to_csv(SNIPS2_val_1, index=False)\n",
    "snips2[\"dev\"].rename(columns={'text':'query'}).to_csv(SNIPS2_val_2, index=False)\n",
    "snips2[\"test\"].rename(columns={'text':'query'}).to_csv(SNIPS2_test, index=False)"
   ]
  },
  {
   "cell_type": "code",
   "execution_count": 19,
   "id": "8e82542c-9749-4567-b307-525217a76970",
   "metadata": {},
   "outputs": [
    {
     "name": "stdout",
     "output_type": "stream",
     "text": [
      "train 13084\n",
      "validation 700\n",
      "test 700\n",
      "max number of words in test2: 35\n",
      "mean number of words: 2\n",
      "mean number of words: 9.005661419497377\n"
     ]
    }
   ],
   "source": [
    "print(\"train\", snips2[\"train\"].shape[0])\n",
    "print(\"validation\", snips2[\"dev\"].shape[0])\n",
    "print(\"test\", snips2[\"test\"].shape[0])\n",
    "snips2[\"train\"][\"len\"] = snips2[\"train\"]['text'].apply(lambda x: len(x.split()))\n",
    "snips2[\"dev\"][\"len\"] = snips2[\"dev\"]['text'].apply(lambda x: len(x.split()))\n",
    "snips2[\"test\"][\"len\"] = snips2[\"test\"]['text'].apply(lambda x: len(x.split()))\n",
    "total = pd.concat([snips2[\"train\"][\"len\"], snips2[\"test\"][\"len\"], snips2[\"dev\"][\"len\"]])\n",
    "print(\"max number of words in test2: {}\".format(total.max()))\n",
    "print(\"mean number of words: {}\".format(total.min()))\n",
    "print(\"mean number of words: {}\".format(total.mean()))"
   ]
  },
  {
   "cell_type": "markdown",
   "id": "96d4e6e5-cef1-4bb3-a7a3-1ef30dd13b31",
   "metadata": {
    "tags": []
   },
   "source": [
    "### SST2"
   ]
  },
  {
   "cell_type": "code",
   "execution_count": 41,
   "id": "712c4a2c-fc2d-4080-8eab-1223d23edd6b",
   "metadata": {
    "tags": []
   },
   "outputs": [
    {
     "name": "stderr",
     "output_type": "stream",
     "text": [
      "Using custom data configuration default\n",
      "Reusing dataset sst2 (/home/alejo/.cache/huggingface/datasets/sst2/default/2.0.0/9896208a8d85db057ac50c72282bcb8fe755accc671a57dd8059d4e130961ed5)\n"
     ]
    },
    {
     "data": {
      "application/vnd.jupyter.widget-view+json": {
       "model_id": "807c4a168d1f4cc692a608290bac6134",
       "version_major": 2,
       "version_minor": 0
      },
      "text/plain": [
       "  0%|          | 0/3 [00:00<?, ?it/s]"
      ]
     },
     "metadata": {},
     "output_type": "display_data"
    },
    {
     "name": "stderr",
     "output_type": "stream",
     "text": [
      "/usr/local/lib/python3.6/dist-packages/ipykernel_launcher.py:38: SettingWithCopyWarning: \n",
      "A value is trying to be set on a copy of a slice from a DataFrame.\n",
      "Try using .loc[row_indexer,col_indexer] = value instead\n",
      "\n",
      "See the caveats in the documentation: https://pandas.pydata.org/pandas-docs/stable/user_guide/indexing.html#returning-a-view-versus-a-copy\n",
      "/usr/local/lib/python3.6/dist-packages/ipykernel_launcher.py:39: SettingWithCopyWarning: \n",
      "A value is trying to be set on a copy of a slice from a DataFrame.\n",
      "Try using .loc[row_indexer,col_indexer] = value instead\n",
      "\n",
      "See the caveats in the documentation: https://pandas.pydata.org/pandas-docs/stable/user_guide/indexing.html#returning-a-view-versus-a-copy\n"
     ]
    },
    {
     "name": "stdout",
     "output_type": "stream",
     "text": [
      "KEYS:  ['train', 'validation', 'test']\n",
      "Label [0, 1, -1]\n"
     ]
    }
   ],
   "source": [
    "sst2 = huggingface_to_ours(path=\"sst2\", test_mode=test_mode, join_train_val=False)"
   ]
  },
  {
   "cell_type": "code",
   "execution_count": 5,
   "id": "657e62de-4b3b-4335-aa68-67358b0f22fe",
   "metadata": {
    "tags": []
   },
   "outputs": [
    {
     "name": "stderr",
     "output_type": "stream",
     "text": [
      "Using custom data configuration default\n",
      "Reusing dataset sst2 (/home/alejo/.cache/huggingface/datasets/sst2/default/2.0.0/9896208a8d85db057ac50c72282bcb8fe755accc671a57dd8059d4e130961ed5)\n"
     ]
    },
    {
     "data": {
      "application/vnd.jupyter.widget-view+json": {
       "model_id": "f8dc682e42134920ad6ea07a984e8228",
       "version_major": 2,
       "version_minor": 0
      },
      "text/plain": [
       "  0%|          | 0/3 [00:00<?, ?it/s]"
      ]
     },
     "metadata": {},
     "output_type": "display_data"
    },
    {
     "name": "stdout",
     "output_type": "stream",
     "text": [
      "KEYS:  ['train', 'validation', 'test']\n",
      "Label [0, 1, -1]\n"
     ]
    },
    {
     "name": "stderr",
     "output_type": "stream",
     "text": [
      "/usr/local/lib/python3.6/dist-packages/ipykernel_launcher.py:38: SettingWithCopyWarning: \n",
      "A value is trying to be set on a copy of a slice from a DataFrame.\n",
      "Try using .loc[row_indexer,col_indexer] = value instead\n",
      "\n",
      "See the caveats in the documentation: https://pandas.pydata.org/pandas-docs/stable/user_guide/indexing.html#returning-a-view-versus-a-copy\n",
      "/usr/local/lib/python3.6/dist-packages/ipykernel_launcher.py:39: SettingWithCopyWarning: \n",
      "A value is trying to be set on a copy of a slice from a DataFrame.\n",
      "Try using .loc[row_indexer,col_indexer] = value instead\n",
      "\n",
      "See the caveats in the documentation: https://pandas.pydata.org/pandas-docs/stable/user_guide/indexing.html#returning-a-view-versus-a-copy\n"
     ]
    }
   ],
   "source": [
    "sst2 = huggingface_to_ours(path=\"sst2\", test_mode=test_mode, join_train_val=False)\n",
    "\n",
    "sst2['train1'] = pd.concat([sst2[\"test1\"], sst2[\"train1\"]]).reset_index(drop=True)\n",
    "# sst2['train1'].to_csv(SST2_1, index=False)\n",
    "# sst2['train2'].to_csv(SST2_2, index=False)\n",
    "# sst2['validation2'].to_csv(SST2_test, index=False)"
   ]
  },
  {
   "cell_type": "code",
   "execution_count": 7,
   "id": "02e2577c-3da0-4892-9cd2-6172db3811d0",
   "metadata": {},
   "outputs": [
    {
     "data": {
      "text/plain": [
       "dict_keys(['train1', 'train2', 'validation1', 'validation2', 'test1', 'test2'])"
      ]
     },
     "execution_count": 7,
     "metadata": {},
     "output_type": "execute_result"
    }
   ],
   "source": [
    "sst2.keys()"
   ]
  },
  {
   "cell_type": "code",
   "execution_count": 12,
   "id": "9589e41e-da82-4a1b-ba58-118374ade794",
   "metadata": {},
   "outputs": [
    {
     "data": {
      "text/html": [
       "<div>\n",
       "<style scoped>\n",
       "    .dataframe tbody tr th:only-of-type {\n",
       "        vertical-align: middle;\n",
       "    }\n",
       "\n",
       "    .dataframe tbody tr th {\n",
       "        vertical-align: top;\n",
       "    }\n",
       "\n",
       "    .dataframe thead th {\n",
       "        text-align: right;\n",
       "    }\n",
       "</style>\n",
       "<table border=\"1\" class=\"dataframe\">\n",
       "  <thead>\n",
       "    <tr style=\"text-align: right;\">\n",
       "      <th></th>\n",
       "      <th>query</th>\n",
       "      <th>cat1</th>\n",
       "    </tr>\n",
       "  </thead>\n",
       "  <tbody>\n",
       "    <tr>\n",
       "      <th>33310</th>\n",
       "      <td>watch and -- especially -- to listen to</td>\n",
       "      <td>1</td>\n",
       "    </tr>\n",
       "    <tr>\n",
       "      <th>35678</th>\n",
       "      <td>skin of man gets a few cheap shocks from its k...</td>\n",
       "      <td>0</td>\n",
       "    </tr>\n",
       "    <tr>\n",
       "      <th>37335</th>\n",
       "      <td>whole lot scarier</td>\n",
       "      <td>1</td>\n",
       "    </tr>\n",
       "    <tr>\n",
       "      <th>57084</th>\n",
       "      <td>like acid</td>\n",
       "      <td>0</td>\n",
       "    </tr>\n",
       "    <tr>\n",
       "      <th>16418</th>\n",
       "      <td>city by the sea would slip under the waves .</td>\n",
       "      <td>0</td>\n",
       "    </tr>\n",
       "    <tr>\n",
       "      <th>...</th>\n",
       "      <td>...</td>\n",
       "      <td>...</td>\n",
       "    </tr>\n",
       "    <tr>\n",
       "      <th>50635</th>\n",
       "      <td>entertaining</td>\n",
       "      <td>1</td>\n",
       "    </tr>\n",
       "    <tr>\n",
       "      <th>57254</th>\n",
       "      <td>liking showgirls</td>\n",
       "      <td>1</td>\n",
       "    </tr>\n",
       "    <tr>\n",
       "      <th>65859</th>\n",
       "      <td>there are so few films about the plight of ame...</td>\n",
       "      <td>1</td>\n",
       "    </tr>\n",
       "    <tr>\n",
       "      <th>46358</th>\n",
       "      <td>also happens to be good</td>\n",
       "      <td>1</td>\n",
       "    </tr>\n",
       "    <tr>\n",
       "      <th>30392</th>\n",
       "      <td>delightful in the central role</td>\n",
       "      <td>1</td>\n",
       "    </tr>\n",
       "  </tbody>\n",
       "</table>\n",
       "<p>67349 rows × 2 columns</p>\n",
       "</div>"
      ],
      "text/plain": [
       "                                                   query  cat1\n",
       "33310           watch and -- especially -- to listen to      1\n",
       "35678  skin of man gets a few cheap shocks from its k...     0\n",
       "37335                                 whole lot scarier      1\n",
       "57084                                         like acid      0\n",
       "16418      city by the sea would slip under the waves .      0\n",
       "...                                                  ...   ...\n",
       "50635                                      entertaining      1\n",
       "57254                                  liking showgirls      1\n",
       "65859  there are so few films about the plight of ame...     1\n",
       "46358                           also happens to be good      1\n",
       "30392                    delightful in the central role      1\n",
       "\n",
       "[67349 rows x 2 columns]"
      ]
     },
     "execution_count": 12,
     "metadata": {},
     "output_type": "execute_result"
    }
   ],
   "source": [
    "sst2['train2']"
   ]
  },
  {
   "cell_type": "code",
   "execution_count": 12,
   "id": "2fd80979",
   "metadata": {},
   "outputs": [
    {
     "name": "stdout",
     "output_type": "stream",
     "text": [
      "train 1 69170\n",
      "train 2 67349\n",
      "validation 872\n",
      "mean number of words in validation2: 19\n",
      "max number of words in validation2: 47\n",
      "mean number of words: 9\n",
      "max number of words: 52\n"
     ]
    }
   ],
   "source": [
    "print(\"train 1\", sst2['train1'].shape[0])\n",
    "print(\"train 2\", sst2['train2'].shape[0])\n",
    "print(\"validation\", sst2['validation2'].shape[0])\n",
    "sst2['train2'][\"len\"] = sst2['train2']['query'].apply(lambda x: len(x.split()))\n",
    "sst2['validation2'][\"len\"] = sst2['validation2']['query'].apply(lambda x: len(x.split()))\n",
    "print(\"mean number of words in validation2: {}\".format(int(sst2['validation2'][\"len\"].mean())))\n",
    "print(\"max number of words in validation2: {}\".format(sst2['validation2'][\"len\"].max()))\n",
    "print(\"mean number of words: {}\".format(int(sst2['train2'][\"len\"].mean())))\n",
    "print(\"max number of words: {}\".format(sst2['train2'][\"len\"].max()))"
   ]
  },
  {
   "cell_type": "markdown",
   "id": "b6d3dd68-4b09-4e9b-88e4-097de8479d50",
   "metadata": {
    "tags": []
   },
   "source": [
    "### SNIPS"
   ]
  },
  {
   "cell_type": "code",
   "execution_count": 60,
   "id": "e41fc5da-0337-4766-a046-babf7a036f60",
   "metadata": {},
   "outputs": [
    {
     "name": "stderr",
     "output_type": "stream",
     "text": [
      "Found cached dataset snips_built_in_intents (/home/alejo/.cache/huggingface/datasets/snips_built_in_intents/default/0.0.0/f7f10213b60cb830d41cb190315da7151437d62acb6f21f0159f7afb4cb7c784)\n"
     ]
    },
    {
     "data": {
      "application/vnd.jupyter.widget-view+json": {
       "model_id": "6d6c4b4ea90a4e8faaaaaed1ebeb3c8f",
       "version_major": 2,
       "version_minor": 0
      },
      "text/plain": [
       "  0%|          | 0/1 [00:00<?, ?it/s]"
      ]
     },
     "metadata": {},
     "output_type": "display_data"
    },
    {
     "name": "stdout",
     "output_type": "stream",
     "text": [
      "KEYS:  ['train']\n",
      "Label [5, 0, 4, 3, 7, 1, 8, 9, 6, 2]\n"
     ]
    }
   ],
   "source": [
    "# ############################################ snips\n",
    "snips = huggingface_to_ours(path=\"snips_built_in_intents\", test_mode=test_mode)\n",
    "snips['train1'].to_csv(SNIPS_1, index=False)\n",
    "snips['train2'].to_csv(SNIPS_2, index=False)"
   ]
  },
  {
   "cell_type": "code",
   "execution_count": 61,
   "id": "807de9bb-fb07-4381-a564-10898e05b316",
   "metadata": {},
   "outputs": [
    {
     "data": {
      "text/plain": [
       "dict_keys(['train1', 'train2'])"
      ]
     },
     "execution_count": 61,
     "metadata": {},
     "output_type": "execute_result"
    }
   ],
   "source": [
    "snips.keys()"
   ]
  },
  {
   "cell_type": "code",
   "execution_count": 62,
   "id": "4cdedd04-126e-4fce-a73c-2f173bff4176",
   "metadata": {},
   "outputs": [
    {
     "name": "stdout",
     "output_type": "stream",
     "text": [
      "train 1 328\n",
      "train 2 328\n",
      "mean number of words: 9\n",
      "max number of words: 20\n"
     ]
    }
   ],
   "source": [
    "print(\"train 1\", snips['train1'].shape[0])\n",
    "print(\"train 2\", snips['train2'].shape[0])\n",
    "snips['train2'][\"len\"] = snips['train2']['query'].apply(lambda x: len(x.split()))\n",
    "print(\"mean number of words: {}\".format(int(snips['train2'][\"len\"].mean())))\n",
    "print(\"max number of words: {}\".format(snips['train2'][\"len\"].max()))"
   ]
  },
  {
   "cell_type": "markdown",
   "id": "fa20a864-abbe-4f27-9cd2-cedda9fb0769",
   "metadata": {
    "jp-MarkdownHeadingCollapsed": true,
    "tags": []
   },
   "source": [
    "### NEWS 20"
   ]
  },
  {
   "cell_type": "code",
   "execution_count": 46,
   "id": "7cdcf0c5-b0f8-4cf8-91c3-7ac2f4872aec",
   "metadata": {},
   "outputs": [
    {
     "data": {
      "application/vnd.jupyter.widget-view+json": {
       "model_id": "e17f7c5b57a542abaecd707bfbeb3992",
       "version_major": 2,
       "version_minor": 0
      },
      "text/plain": [
       "Downloading readme:   0%|          | 0.00/5.42k [00:00<?, ?B/s]"
      ]
     },
     "metadata": {},
     "output_type": "display_data"
    },
    {
     "name": "stderr",
     "output_type": "stream",
     "text": [
      "Using custom data configuration rungalileo--20_Newsgroups_Fixed-edf414ecc72dd622\n"
     ]
    },
    {
     "name": "stdout",
     "output_type": "stream",
     "text": [
      "Downloading and preparing dataset csv/rungalileo--20_Newsgroups_Fixed to /home/alejo/.cache/huggingface/datasets/rungalileo___csv/rungalileo--20_Newsgroups_Fixed-edf414ecc72dd622/0.0.0/6b34fb8fcf56f7c8ba51dc895bfa2bfbe43546f190a60fcf74bb5e8afdcc2317...\n"
     ]
    },
    {
     "data": {
      "application/vnd.jupyter.widget-view+json": {
       "model_id": "f18ba26111374899b48c0342aaf7f221",
       "version_major": 2,
       "version_minor": 0
      },
      "text/plain": [
       "Downloading data files:   0%|          | 0/2 [00:00<?, ?it/s]"
      ]
     },
     "metadata": {},
     "output_type": "display_data"
    },
    {
     "data": {
      "application/vnd.jupyter.widget-view+json": {
       "model_id": "3452eb6b23c84cfb82c6823e28eae62d",
       "version_major": 2,
       "version_minor": 0
      },
      "text/plain": [
       "Downloading data:   0%|          | 0.00/14.1M [00:00<?, ?B/s]"
      ]
     },
     "metadata": {},
     "output_type": "display_data"
    },
    {
     "data": {
      "application/vnd.jupyter.widget-view+json": {
       "model_id": "23438903c5d240a2840416fc9f1b7510",
       "version_major": 2,
       "version_minor": 0
      },
      "text/plain": [
       "Downloading data:   0%|          | 0.00/8.46M [00:00<?, ?B/s]"
      ]
     },
     "metadata": {},
     "output_type": "display_data"
    },
    {
     "name": "stdout",
     "output_type": "stream",
     "text": [
      "  "
     ]
    },
    {
     "data": {
      "application/vnd.jupyter.widget-view+json": {
       "model_id": "5d917f3b60a64c82842aba5917a8adc0",
       "version_major": 2,
       "version_minor": 0
      },
      "text/plain": [
       "Extracting data files #0:   0%|          | 0/1 [00:00<?, ?obj/s]"
      ]
     },
     "metadata": {},
     "output_type": "display_data"
    },
    {
     "data": {
      "application/vnd.jupyter.widget-view+json": {
       "model_id": "d2a0abcd41c1407b997bfca3aeab3ddd",
       "version_major": 2,
       "version_minor": 0
      },
      "text/plain": [
       "Extracting data files #1:   0%|          | 0/1 [00:00<?, ?obj/s]"
      ]
     },
     "metadata": {},
     "output_type": "display_data"
    },
    {
     "data": {
      "application/vnd.jupyter.widget-view+json": {
       "model_id": "",
       "version_major": 2,
       "version_minor": 0
      },
      "text/plain": [
       "Generating train split: 0 examples [00:00, ? examples/s]"
      ]
     },
     "metadata": {},
     "output_type": "display_data"
    },
    {
     "name": "stderr",
     "output_type": "stream",
     "text": [
      "/home/alejo/anaconda3/envs/LGZH/lib/python3.9/site-packages/datasets/download/streaming_download_manager.py:714: FutureWarning: the 'mangle_dupe_cols' keyword is deprecated and will be removed in a future version. Please take steps to stop the use of 'mangle_dupe_cols'\n",
      "  return pd.read_csv(xopen(filepath_or_buffer, \"rb\", use_auth_token=use_auth_token), **kwargs)\n"
     ]
    },
    {
     "data": {
      "application/vnd.jupyter.widget-view+json": {
       "model_id": "",
       "version_major": 2,
       "version_minor": 0
      },
      "text/plain": [
       "Generating test split: 0 examples [00:00, ? examples/s]"
      ]
     },
     "metadata": {},
     "output_type": "display_data"
    },
    {
     "name": "stderr",
     "output_type": "stream",
     "text": [
      "/home/alejo/anaconda3/envs/LGZH/lib/python3.9/site-packages/datasets/download/streaming_download_manager.py:714: FutureWarning: the 'mangle_dupe_cols' keyword is deprecated and will be removed in a future version. Please take steps to stop the use of 'mangle_dupe_cols'\n",
      "  return pd.read_csv(xopen(filepath_or_buffer, \"rb\", use_auth_token=use_auth_token), **kwargs)\n"
     ]
    },
    {
     "name": "stdout",
     "output_type": "stream",
     "text": [
      "Dataset csv downloaded and prepared to /home/alejo/.cache/huggingface/datasets/rungalileo___csv/rungalileo--20_Newsgroups_Fixed-edf414ecc72dd622/0.0.0/6b34fb8fcf56f7c8ba51dc895bfa2bfbe43546f190a60fcf74bb5e8afdcc2317. Subsequent calls will reuse this data.\n"
     ]
    },
    {
     "data": {
      "application/vnd.jupyter.widget-view+json": {
       "model_id": "b9d94fe3040c482eba2948fa680563e5",
       "version_major": 2,
       "version_minor": 0
      },
      "text/plain": [
       "  0%|          | 0/2 [00:00<?, ?it/s]"
      ]
     },
     "metadata": {},
     "output_type": "display_data"
    },
    {
     "name": "stderr",
     "output_type": "stream",
     "text": [
      "/tmp/ipykernel_30995/1666211352.py:28: FutureWarning: In a future version of pandas all arguments of StringMethods.split except for the argument 'pat' will be keyword-only.\n",
      "  df[['cat1', 'cat2']] = df['label'].str.split('.', 1, expand=True)\n"
     ]
    },
    {
     "name": "stdout",
     "output_type": "stream",
     "text": [
      "KEYS:  ['train', 'test']\n",
      "Label ['rec.autos', 'comp.sys.mac.hardware', 'comp.graphics', 'sci.space', 'talk.politics.guns', 'sci.med', 'comp.sys.ibm.pc.hardware', 'comp.os.ms-windows.misc', 'rec.motorcycles', 'talk.religion.misc', 'None', 'misc.forsale', 'alt.atheism', 'sci.electronics', 'comp.windows.x', 'rec.sport.hockey', 'rec.sport.baseball', 'soc.religion.christian', 'talk.politics.mideast', 'talk.politics.misc', 'sci.crypt']\n"
     ]
    },
    {
     "name": "stderr",
     "output_type": "stream",
     "text": [
      "/tmp/ipykernel_30995/3194057488.py:4: SettingWithCopyWarning: \n",
      "A value is trying to be set on a copy of a slice from a DataFrame.\n",
      "Try using .loc[row_indexer,col_indexer] = value instead\n",
      "\n",
      "See the caveats in the documentation: https://pandas.pydata.org/pandas-docs/stable/user_guide/indexing.html#returning-a-view-versus-a-copy\n",
      "  news220['test2']['query'] = news220['test2']['query'].apply(lambda x: \" \" if len(x) == 0 else x)\n"
     ]
    }
   ],
   "source": [
    "news220 = huggingface_to_ours(path=\"rungalileo/20_Newsgroups_Fixed\", test_mode=test_mode, hierarchycal=2)\n",
    "news220['train1'] = news220['train1'].apply(lambda x: \" \" if len(x) == 0 else x)\n",
    "news220['train2']['query'] = news220['train2']['query'].apply(lambda x: \" \" if len(x) == 0 else x)\n",
    "news220['test2']['query'] = news220['test2']['query'].apply(lambda x: \" \" if len(x) == 0 else x)\n",
    "# news220['train1'].to_csv(NEWS20_1, index=False)\n",
    "# news220['train2'].to_csv(NEWS20_2, index=False)\n",
    "# news220['test2'].to_csv(NEWS20_test, index=False)"
   ]
  },
  {
   "cell_type": "code",
   "execution_count": 49,
   "id": "fcb8f876",
   "metadata": {},
   "outputs": [
    {
     "name": "stdout",
     "output_type": "stream",
     "text": [
      "train 1 11096\n",
      "train 2 11096\n",
      "test 7370\n",
      "mean number of words in test2: 166\n",
      "max number of words in test2: 9187\n",
      "mean number of words: 175\n",
      "max number of words: 11694\n"
     ]
    },
    {
     "name": "stderr",
     "output_type": "stream",
     "text": [
      "/tmp/ipykernel_30995/3412383046.py:5: SettingWithCopyWarning: \n",
      "A value is trying to be set on a copy of a slice from a DataFrame.\n",
      "Try using .loc[row_indexer,col_indexer] = value instead\n",
      "\n",
      "See the caveats in the documentation: https://pandas.pydata.org/pandas-docs/stable/user_guide/indexing.html#returning-a-view-versus-a-copy\n",
      "  news220['test2'][\"len\"] = news220['test2']['query'].apply(lambda x: len(x.split()))\n"
     ]
    }
   ],
   "source": [
    "print(\"train 1\", news220['train1'].shape[0])\n",
    "print(\"train 2\", news220['train2'].shape[0])\n",
    "print(\"test\", news220['test2'].shape[0])\n",
    "news220['train2'][\"len\"] = news220['train2']['query'].apply(lambda x: len(x.split()))\n",
    "news220['test2'][\"len\"] = news220['test2']['query'].apply(lambda x: len(x.split()))\n",
    "print(\"mean number of words in test2: {}\".format(int(news220['test2'][\"len\"].mean())))\n",
    "print(\"max number of words in test2: {}\".format(news220['test2'][\"len\"].max()))\n",
    "print(\"mean number of words: {}\".format(int(news220['train2'][\"len\"].mean())))\n",
    "print(\"max number of words: {}\".format(news220['train2'][\"len\"].max()))"
   ]
  },
  {
   "cell_type": "markdown",
   "id": "c943ab56-e366-47d1-b2bf-407a1e9534ef",
   "metadata": {
    "tags": []
   },
   "source": [
    "### YELP"
   ]
  },
  {
   "cell_type": "code",
   "execution_count": 50,
   "id": "e1400a7a-68b4-4139-b1b7-b184e9ee62fa",
   "metadata": {
    "tags": []
   },
   "outputs": [
    {
     "data": {
      "application/vnd.jupyter.widget-view+json": {
       "model_id": "ee2ddf8c78244a5db99025e3a23ac985",
       "version_major": 2,
       "version_minor": 0
      },
      "text/plain": [
       "Downloading builder script:   0%|          | 0.00/4.41k [00:00<?, ?B/s]"
      ]
     },
     "metadata": {},
     "output_type": "display_data"
    },
    {
     "data": {
      "application/vnd.jupyter.widget-view+json": {
       "model_id": "a9b222d55c4c405fbbf612c0f27017f5",
       "version_major": 2,
       "version_minor": 0
      },
      "text/plain": [
       "Downloading metadata:   0%|          | 0.00/2.04k [00:00<?, ?B/s]"
      ]
     },
     "metadata": {},
     "output_type": "display_data"
    },
    {
     "data": {
      "application/vnd.jupyter.widget-view+json": {
       "model_id": "772b1fa59b8e46b2af73dcf5a89b7f4a",
       "version_major": 2,
       "version_minor": 0
      },
      "text/plain": [
       "Downloading readme:   0%|          | 0.00/6.57k [00:00<?, ?B/s]"
      ]
     },
     "metadata": {},
     "output_type": "display_data"
    },
    {
     "name": "stdout",
     "output_type": "stream",
     "text": [
      "Downloading and preparing dataset yelp_review_full/yelp_review_full to /home/alejo/.cache/huggingface/datasets/yelp_review_full/yelp_review_full/1.0.0/e8e18e19d7be9e75642fc66b198abadb116f73599ec89a69ba5dd8d1e57ba0bf...\n"
     ]
    },
    {
     "data": {
      "application/vnd.jupyter.widget-view+json": {
       "model_id": "730a40ffb5bf49a983f618165195fe0b",
       "version_major": 2,
       "version_minor": 0
      },
      "text/plain": [
       "Downloading data:   0%|          | 0.00/196M [00:00<?, ?B/s]"
      ]
     },
     "metadata": {},
     "output_type": "display_data"
    },
    {
     "data": {
      "application/vnd.jupyter.widget-view+json": {
       "model_id": "",
       "version_major": 2,
       "version_minor": 0
      },
      "text/plain": [
       "Generating train split:   0%|          | 0/650000 [00:00<?, ? examples/s]"
      ]
     },
     "metadata": {},
     "output_type": "display_data"
    },
    {
     "data": {
      "application/vnd.jupyter.widget-view+json": {
       "model_id": "",
       "version_major": 2,
       "version_minor": 0
      },
      "text/plain": [
       "Generating test split:   0%|          | 0/50000 [00:00<?, ? examples/s]"
      ]
     },
     "metadata": {},
     "output_type": "display_data"
    },
    {
     "name": "stdout",
     "output_type": "stream",
     "text": [
      "Dataset yelp_review_full downloaded and prepared to /home/alejo/.cache/huggingface/datasets/yelp_review_full/yelp_review_full/1.0.0/e8e18e19d7be9e75642fc66b198abadb116f73599ec89a69ba5dd8d1e57ba0bf. Subsequent calls will reuse this data.\n"
     ]
    },
    {
     "data": {
      "application/vnd.jupyter.widget-view+json": {
       "model_id": "2f84a9f5a32c461b8f38d31f901caeb8",
       "version_major": 2,
       "version_minor": 0
      },
      "text/plain": [
       "  0%|          | 0/2 [00:00<?, ?it/s]"
      ]
     },
     "metadata": {},
     "output_type": "display_data"
    },
    {
     "name": "stdout",
     "output_type": "stream",
     "text": [
      "KEYS:  ['train', 'test']\n",
      "Label [4, 1, 3, 0, 2]\n"
     ]
    }
   ],
   "source": [
    "# Yelp ratings\n",
    "yelp = huggingface_to_ours(path=\"yelp_review_full\", test_mode=test_mode)\n",
    "# yelp['train1'].to_csv(YELP_1, index=False)\n",
    "# yelp['train2'].to_csv(YELP_2, index=False)\n",
    "# yelp['test2'].to_csv(YELP_test, index=False)"
   ]
  },
  {
   "cell_type": "code",
   "execution_count": 51,
   "id": "54693d5e-3af0-474c-8716-f5745675a5d3",
   "metadata": {},
   "outputs": [
    {
     "name": "stdout",
     "output_type": "stream",
     "text": [
      "train 1 650000\n",
      "train 2 650000\n",
      "test 50000\n",
      "mean number of words in test2: 134\n",
      "max number of words in test2: 1009\n",
      "mean number of words: 134\n",
      "max number of words: 1052\n"
     ]
    }
   ],
   "source": [
    "print(\"train 1\", yelp['train1'].shape[0])\n",
    "print(\"train 2\", yelp['train2'].shape[0])\n",
    "print(\"test\", yelp['test2'].shape[0])\n",
    "yelp['train2'][\"len\"] = yelp['train2']['query'].apply(lambda x: len(x.split()))\n",
    "yelp['test2'][\"len\"] = yelp['test2']['query'].apply(lambda x: len(x.split()))\n",
    "print(\"mean number of words in test2: {}\".format(int(yelp['test2'][\"len\"].mean())))\n",
    "print(\"max number of words in test2: {}\".format(yelp['test2'][\"len\"].max()))\n",
    "print(\"mean number of words: {}\".format(int(yelp['train2'][\"len\"].mean())))\n",
    "print(\"max number of words: {}\".format(yelp['train2'][\"len\"].max()))"
   ]
  },
  {
   "cell_type": "markdown",
   "id": "ea00e39b-0138-4570-95bb-42f213fd6632",
   "metadata": {},
   "source": [
    "### SST5"
   ]
  },
  {
   "cell_type": "code",
   "execution_count": 63,
   "id": "18fee61b-af92-448f-a273-475768d792a4",
   "metadata": {},
   "outputs": [
    {
     "name": "stderr",
     "output_type": "stream",
     "text": [
      "Using custom data configuration SetFit--sst5-4c07b9d5881ae209\n",
      "Found cached dataset json (/home/alejo/.cache/huggingface/datasets/SetFit___json/SetFit--sst5-4c07b9d5881ae209/0.0.0/e6070c77f18f01a5ad4551a8b7edfba20b8438b7cad4d94e6ad9378022ce4aab)\n"
     ]
    },
    {
     "data": {
      "application/vnd.jupyter.widget-view+json": {
       "model_id": "b67fb47c21d545fd98f46b40aab93db1",
       "version_major": 2,
       "version_minor": 0
      },
      "text/plain": [
       "  0%|          | 0/3 [00:00<?, ?it/s]"
      ]
     },
     "metadata": {},
     "output_type": "display_data"
    },
    {
     "name": "stdout",
     "output_type": "stream",
     "text": [
      "KEYS:  ['train', 'test', 'validation']\n",
      "Label [4, 1, 2, 3, 0]\n"
     ]
    }
   ],
   "source": [
    "# Rating\n",
    "sst5 = huggingface_to_ours(path=\"SetFit/sst5\", test_mode=test_mode)\n",
    "sst5['train1'].to_csv(SST5_1, index=False)\n",
    "sst5['train2'].to_csv(SST5_2, index=False)\n",
    "sst5['validation1'].to_csv(SST5_val_1, index=False)\n",
    "sst5['validation2'].to_csv(SST5_val_2, index=False)\n",
    "sst5['test2'].to_csv(SST5_test, index=False)"
   ]
  },
  {
   "cell_type": "code",
   "execution_count": 65,
   "id": "098c086d-ef0d-48e4-96f2-e0acc2f0c59a",
   "metadata": {},
   "outputs": [
    {
     "name": "stdout",
     "output_type": "stream",
     "text": [
      "train 2 8544\n",
      "train 1 8544\n",
      "test 2210\n",
      "mean number of words in test2: 19\n",
      "max number of words in test2: 56\n",
      "mean number of words: 19\n",
      "max number of words: 52\n"
     ]
    }
   ],
   "source": [
    "print(\"train 2\", sst5['train2'].shape[0])\n",
    "print(\"train 1\", sst5['train1'].shape[0])\n",
    "print(\"test\", sst5['test2'].shape[0])\n",
    "sst5['train2'][\"len\"] = sst5['train2']['query'].apply(lambda x: len(x.split()))\n",
    "sst5['test2'][\"len\"] = sst5['test2']['query'].apply(lambda x: len(x.split()))\n",
    "print(\"mean number of words in test2: {}\".format(int(sst5['test2'][\"len\"].mean())))\n",
    "print(\"max number of words in test2: {}\".format(sst5['test2'][\"len\"].max()))\n",
    "print(\"mean number of words: {}\".format(int(sst5['train2'][\"len\"].mean())))\n",
    "print(\"max number of words: {}\".format(sst5['train2'][\"len\"].max()))"
   ]
  },
  {
   "cell_type": "markdown",
   "id": "c2476f59-1999-4754-9426-09e477c3d418",
   "metadata": {},
   "source": [
    "### AGnews"
   ]
  },
  {
   "cell_type": "code",
   "execution_count": 55,
   "id": "fde3e37e-77b0-4ec5-8e7b-ac242fa3267e",
   "metadata": {},
   "outputs": [
    {
     "data": {
      "application/vnd.jupyter.widget-view+json": {
       "model_id": "c4487c65736b40a1b028d7bfd414123f",
       "version_major": 2,
       "version_minor": 0
      },
      "text/plain": [
       "Downloading builder script:   0%|          | 0.00/4.06k [00:00<?, ?B/s]"
      ]
     },
     "metadata": {},
     "output_type": "display_data"
    },
    {
     "data": {
      "application/vnd.jupyter.widget-view+json": {
       "model_id": "fd925a0f73ae48478844642bab92d1ae",
       "version_major": 2,
       "version_minor": 0
      },
      "text/plain": [
       "Downloading metadata:   0%|          | 0.00/2.65k [00:00<?, ?B/s]"
      ]
     },
     "metadata": {},
     "output_type": "display_data"
    },
    {
     "data": {
      "application/vnd.jupyter.widget-view+json": {
       "model_id": "f8c660a4b65349948899f37ed088ce49",
       "version_major": 2,
       "version_minor": 0
      },
      "text/plain": [
       "Downloading readme:   0%|          | 0.00/7.94k [00:00<?, ?B/s]"
      ]
     },
     "metadata": {},
     "output_type": "display_data"
    },
    {
     "name": "stdout",
     "output_type": "stream",
     "text": [
      "Downloading and preparing dataset ag_news/default to /home/alejo/.cache/huggingface/datasets/ag_news/default/0.0.0/bc2bcb40336ace1a0374767fc29bb0296cdaf8a6da7298436239c54d79180548...\n"
     ]
    },
    {
     "data": {
      "application/vnd.jupyter.widget-view+json": {
       "model_id": "4b070c4e892e4b6aa5a85cafdac8c521",
       "version_major": 2,
       "version_minor": 0
      },
      "text/plain": [
       "Downloading data:   0%|          | 0.00/11.0M [00:00<?, ?B/s]"
      ]
     },
     "metadata": {},
     "output_type": "display_data"
    },
    {
     "data": {
      "application/vnd.jupyter.widget-view+json": {
       "model_id": "c6c0efef0ea94cf9be6b9cb723deae29",
       "version_major": 2,
       "version_minor": 0
      },
      "text/plain": [
       "Downloading data:   0%|          | 0.00/751k [00:00<?, ?B/s]"
      ]
     },
     "metadata": {},
     "output_type": "display_data"
    },
    {
     "data": {
      "application/vnd.jupyter.widget-view+json": {
       "model_id": "",
       "version_major": 2,
       "version_minor": 0
      },
      "text/plain": [
       "Generating train split:   0%|          | 0/120000 [00:00<?, ? examples/s]"
      ]
     },
     "metadata": {},
     "output_type": "display_data"
    },
    {
     "data": {
      "application/vnd.jupyter.widget-view+json": {
       "model_id": "",
       "version_major": 2,
       "version_minor": 0
      },
      "text/plain": [
       "Generating test split:   0%|          | 0/7600 [00:00<?, ? examples/s]"
      ]
     },
     "metadata": {},
     "output_type": "display_data"
    },
    {
     "name": "stdout",
     "output_type": "stream",
     "text": [
      "Dataset ag_news downloaded and prepared to /home/alejo/.cache/huggingface/datasets/ag_news/default/0.0.0/bc2bcb40336ace1a0374767fc29bb0296cdaf8a6da7298436239c54d79180548. Subsequent calls will reuse this data.\n"
     ]
    },
    {
     "data": {
      "application/vnd.jupyter.widget-view+json": {
       "model_id": "7457920760e94e3ab5b6d819a2673b13",
       "version_major": 2,
       "version_minor": 0
      },
      "text/plain": [
       "  0%|          | 0/2 [00:00<?, ?it/s]"
      ]
     },
     "metadata": {},
     "output_type": "display_data"
    },
    {
     "name": "stdout",
     "output_type": "stream",
     "text": [
      "KEYS:  ['train', 'test']\n",
      "Label [2, 3, 1, 0]\n"
     ]
    }
   ],
   "source": [
    "ag_news = huggingface_to_ours(path=\"ag_news\", test_mode=test_mode)\n",
    "ag_news['train1'].to_csv(AGNEWS_1, index=False)\n",
    "ag_news['train2'].to_csv(AGNEWS_2, index=False)\n",
    "ag_news['test2'].to_csv(AGNEWS_test, index=False)\n",
    "# this version of the data has the title and the description connected with a space"
   ]
  },
  {
   "cell_type": "code",
   "execution_count": 56,
   "id": "6bedbbfe-e65c-48d3-a3b1-2add7df408ff",
   "metadata": {},
   "outputs": [
    {
     "name": "stdout",
     "output_type": "stream",
     "text": [
      "train 1 120000\n",
      "train 2 120000\n",
      "test 7600\n",
      "mean number of words in test2: 37\n",
      "max number of words in test2: 137\n",
      "mean number of words: 37\n",
      "max number of words: 177\n"
     ]
    }
   ],
   "source": [
    "print(\"train 1\", ag_news['train1'].shape[0])\n",
    "print(\"train 2\", ag_news['train2'].shape[0])\n",
    "print(\"test\", ag_news['test2'].shape[0])\n",
    "ag_news['train2'][\"len\"] = ag_news['train2']['query'].apply(lambda x: len(x.split()))\n",
    "ag_news['test2'][\"len\"] = ag_news['test2']['query'].apply(lambda x: len(x.split()))\n",
    "print(\"mean number of words in test2: {}\".format(int(ag_news['test2'][\"len\"].mean())))\n",
    "print(\"max number of words in test2: {}\".format(ag_news['test2'][\"len\"].max()))\n",
    "print(\"mean number of words: {}\".format(int(ag_news['train2'][\"len\"].mean())))\n",
    "print(\"max number of words: {}\".format(ag_news['train2'][\"len\"].max()))"
   ]
  },
  {
   "cell_type": "markdown",
   "id": "9997e7c5-fd0f-44d4-9003-9e6188e785a1",
   "metadata": {
    "tags": []
   },
   "source": [
    "### IMDB"
   ]
  },
  {
   "cell_type": "code",
   "execution_count": 72,
   "id": "a1613470-734f-4db7-af7c-6e5cf3492ad2",
   "metadata": {},
   "outputs": [
    {
     "name": "stderr",
     "output_type": "stream",
     "text": [
      "Found cached dataset imdb (/home/alejo/.cache/huggingface/datasets/imdb/plain_text/1.0.0/2fdd8b9bcadd6e7055e742a706876ba43f19faee861df134affd7a3f60fc38a1)\n"
     ]
    },
    {
     "data": {
      "application/vnd.jupyter.widget-view+json": {
       "model_id": "78d59e8f576641d6a67cdcb4a733350c",
       "version_major": 2,
       "version_minor": 0
      },
      "text/plain": [
       "  0%|          | 0/3 [00:00<?, ?it/s]"
      ]
     },
     "metadata": {},
     "output_type": "display_data"
    },
    {
     "name": "stderr",
     "output_type": "stream",
     "text": [
      "/tmp/ipykernel_30995/1666211352.py:38: SettingWithCopyWarning: \n",
      "A value is trying to be set on a copy of a slice from a DataFrame.\n",
      "Try using .loc[row_indexer,col_indexer] = value instead\n",
      "\n",
      "See the caveats in the documentation: https://pandas.pydata.org/pandas-docs/stable/user_guide/indexing.html#returning-a-view-versus-a-copy\n",
      "  df_sub[cat] = tag_encoded.fit_transform(df_sub[cat])\n",
      "/tmp/ipykernel_30995/1666211352.py:39: SettingWithCopyWarning: \n",
      "A value is trying to be set on a copy of a slice from a DataFrame.\n",
      "Try using .loc[row_indexer,col_indexer] = value instead\n",
      "\n",
      "See the caveats in the documentation: https://pandas.pydata.org/pandas-docs/stable/user_guide/indexing.html#returning-a-view-versus-a-copy\n",
      "  df[df[cat]!=-1][cat] = df_sub[cat]\n"
     ]
    },
    {
     "name": "stdout",
     "output_type": "stream",
     "text": [
      "KEYS:  ['train', 'test', 'unsupervised']\n",
      "Label [0, 1, -1]\n"
     ]
    }
   ],
   "source": [
    "imdb = huggingface_to_ours(path=\"imdb\", test_mode=test_mode)\n",
    "imdb_1 = pd.concat([imdb[\"train1\"], imdb[\"unsupervised1\"]]).reset_index(drop=True)\n",
    "\n",
    "imdb_1.to_csv(IMDB_1, index=False)\n",
    "imdb[\"train2\"].to_csv(IMDB_2, index=False)\n",
    "imdb['test2'].to_csv(IMDB_test, index=False)"
   ]
  },
  {
   "cell_type": "code",
   "execution_count": 73,
   "id": "40e0ad32",
   "metadata": {},
   "outputs": [
    {
     "name": "stdout",
     "output_type": "stream",
     "text": [
      "train 2 25000\n",
      "test 25000\n",
      "mean number of words in test2: 224\n",
      "max number of words in test2: 2192\n",
      "mean number of words: 229\n",
      "max number of words: 2450\n"
     ]
    }
   ],
   "source": [
    "print(\"train 2\", imdb['train2'].shape[0])\n",
    "print(\"test\", imdb['test2'].shape[0])\n",
    "imdb['train2'][\"len\"] = imdb['train2']['query'].apply(lambda x: len(x.split()))\n",
    "imdb['test2'][\"len\"] = imdb['test2']['query'].apply(lambda x: len(x.split()))\n",
    "print(\"mean number of words in test2: {}\".format(int(imdb['test2'][\"len\"].mean())))\n",
    "print(\"max number of words in test2: {}\".format(imdb['test2'][\"len\"].max()))\n",
    "print(\"mean number of words: {}\".format(int(imdb['train2'][\"len\"].mean())))\n",
    "print(\"max number of words: {}\".format(imdb['train2'][\"len\"].max()))"
   ]
  },
  {
   "cell_type": "code",
   "execution_count": null,
   "id": "3040a1f6",
   "metadata": {},
   "outputs": [],
   "source": []
  },
  {
   "cell_type": "code",
   "execution_count": null,
   "id": "a970f65d",
   "metadata": {},
   "outputs": [],
   "source": []
  }
 ],
 "metadata": {
  "kernelspec": {
   "display_name": "Python 3",
   "language": "python",
   "name": "python3"
  },
  "language_info": {
   "codemirror_mode": {
    "name": "ipython",
    "version": 3
   },
   "file_extension": ".py",
   "mimetype": "text/x-python",
   "name": "python",
   "nbconvert_exporter": "python",
   "pygments_lexer": "ipython3",
   "version": "3.6.9"
  }
 },
 "nbformat": 4,
 "nbformat_minor": 5
}
